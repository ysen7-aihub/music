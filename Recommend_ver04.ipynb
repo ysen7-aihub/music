{
 "cells": [
  {
   "cell_type": "code",
   "execution_count": 1,
   "id": "8361cfe2",
   "metadata": {},
   "outputs": [],
   "source": [
    "import pandas as pd\n",
    "import numpy as np\n",
    "import matplotlib.pyplot as plt\n",
    "from sklearn.cluster import KMeans\n",
    "import seaborn as sns\n",
    "\n",
    "from sklearn.preprocessing import StandardScaler\n",
    "from sklearn.decomposition import PCA"
   ]
  },
  {
   "cell_type": "code",
   "execution_count": 2,
   "id": "252cccad",
   "metadata": {},
   "outputs": [],
   "source": [
    "data = pd.read_csv('spotifyRefinedTarget.csv')"
   ]
  },
  {
   "cell_type": "code",
   "execution_count": 3,
   "id": "b7f2cf37",
   "metadata": {},
   "outputs": [
    {
     "data": {
      "text/html": [
       "<div>\n",
       "<style scoped>\n",
       "    .dataframe tbody tr th:only-of-type {\n",
       "        vertical-align: middle;\n",
       "    }\n",
       "\n",
       "    .dataframe tbody tr th {\n",
       "        vertical-align: top;\n",
       "    }\n",
       "\n",
       "    .dataframe thead th {\n",
       "        text-align: right;\n",
       "    }\n",
       "</style>\n",
       "<table border=\"1\" class=\"dataframe\">\n",
       "  <thead>\n",
       "    <tr style=\"text-align: right;\">\n",
       "      <th></th>\n",
       "      <th>name</th>\n",
       "      <th>artists</th>\n",
       "      <th>percentage</th>\n",
       "      <th>danceability</th>\n",
       "      <th>energy</th>\n",
       "      <th>liveness</th>\n",
       "      <th>loudness</th>\n",
       "      <th>speechiness</th>\n",
       "      <th>tempo</th>\n",
       "      <th>mode2</th>\n",
       "      <th>acousticness</th>\n",
       "      <th>instrumentalness</th>\n",
       "    </tr>\n",
       "  </thead>\n",
       "  <tbody>\n",
       "    <tr>\n",
       "      <th>0</th>\n",
       "      <td>Clancy Lowered the Boom</td>\n",
       "      <td>['Dennis Day']</td>\n",
       "      <td>0.660748</td>\n",
       "      <td>0.819</td>\n",
       "      <td>0.341</td>\n",
       "      <td>0.160</td>\n",
       "      <td>0.47559</td>\n",
       "      <td>0.4150</td>\n",
       "      <td>0.253900</td>\n",
       "      <td>0.25</td>\n",
       "      <td>0.732</td>\n",
       "      <td>0.000</td>\n",
       "    </tr>\n",
       "    <tr>\n",
       "      <th>1</th>\n",
       "      <td>Gati Bali</td>\n",
       "      <td>['KHP Kridhamardawa Karaton Ngayogyakarta Hadi...</td>\n",
       "      <td>0.506691</td>\n",
       "      <td>0.328</td>\n",
       "      <td>0.166</td>\n",
       "      <td>0.101</td>\n",
       "      <td>0.45150</td>\n",
       "      <td>0.0339</td>\n",
       "      <td>0.459746</td>\n",
       "      <td>0.25</td>\n",
       "      <td>0.961</td>\n",
       "      <td>0.913</td>\n",
       "    </tr>\n",
       "    <tr>\n",
       "      <th>2</th>\n",
       "      <td>Gati Mardika</td>\n",
       "      <td>['KHP Kridhamardawa Karaton Ngayogyakarta Hadi...</td>\n",
       "      <td>0.619534</td>\n",
       "      <td>0.697</td>\n",
       "      <td>0.346</td>\n",
       "      <td>0.130</td>\n",
       "      <td>0.47494</td>\n",
       "      <td>0.0700</td>\n",
       "      <td>0.499267</td>\n",
       "      <td>0.25</td>\n",
       "      <td>0.579</td>\n",
       "      <td>0.168</td>\n",
       "    </tr>\n",
       "  </tbody>\n",
       "</table>\n",
       "</div>"
      ],
      "text/plain": [
       "                      name                                            artists  \\\n",
       "0  Clancy Lowered the Boom                                     ['Dennis Day']   \n",
       "1                Gati Bali  ['KHP Kridhamardawa Karaton Ngayogyakarta Hadi...   \n",
       "2             Gati Mardika  ['KHP Kridhamardawa Karaton Ngayogyakarta Hadi...   \n",
       "\n",
       "   percentage  danceability  energy  liveness  loudness  speechiness  \\\n",
       "0    0.660748         0.819   0.341     0.160   0.47559       0.4150   \n",
       "1    0.506691         0.328   0.166     0.101   0.45150       0.0339   \n",
       "2    0.619534         0.697   0.346     0.130   0.47494       0.0700   \n",
       "\n",
       "      tempo  mode2  acousticness  instrumentalness  \n",
       "0  0.253900   0.25         0.732             0.000  \n",
       "1  0.459746   0.25         0.961             0.913  \n",
       "2  0.499267   0.25         0.579             0.168  "
      ]
     },
     "execution_count": 3,
     "metadata": {},
     "output_type": "execute_result"
    }
   ],
   "source": [
    "data.head(3)"
   ]
  },
  {
   "cell_type": "code",
   "execution_count": 4,
   "id": "a7eb8e05",
   "metadata": {},
   "outputs": [],
   "source": [
    "acou_ins = data.copy()"
   ]
  },
  {
   "cell_type": "code",
   "execution_count": 5,
   "id": "19b073e7",
   "metadata": {},
   "outputs": [],
   "source": [
    "acou_ins = acou_ins.loc[:,['danceability','energy','acousticness']]"
   ]
  },
  {
   "cell_type": "code",
   "execution_count": 6,
   "id": "9ec35a12",
   "metadata": {},
   "outputs": [
    {
     "data": {
      "text/html": [
       "<div>\n",
       "<style scoped>\n",
       "    .dataframe tbody tr th:only-of-type {\n",
       "        vertical-align: middle;\n",
       "    }\n",
       "\n",
       "    .dataframe tbody tr th {\n",
       "        vertical-align: top;\n",
       "    }\n",
       "\n",
       "    .dataframe thead th {\n",
       "        text-align: right;\n",
       "    }\n",
       "</style>\n",
       "<table border=\"1\" class=\"dataframe\">\n",
       "  <thead>\n",
       "    <tr style=\"text-align: right;\">\n",
       "      <th></th>\n",
       "      <th>danceability</th>\n",
       "      <th>energy</th>\n",
       "      <th>acousticness</th>\n",
       "    </tr>\n",
       "  </thead>\n",
       "  <tbody>\n",
       "    <tr>\n",
       "      <th>0</th>\n",
       "      <td>0.819</td>\n",
       "      <td>0.341</td>\n",
       "      <td>0.732</td>\n",
       "    </tr>\n",
       "    <tr>\n",
       "      <th>1</th>\n",
       "      <td>0.328</td>\n",
       "      <td>0.166</td>\n",
       "      <td>0.961</td>\n",
       "    </tr>\n",
       "    <tr>\n",
       "      <th>2</th>\n",
       "      <td>0.697</td>\n",
       "      <td>0.346</td>\n",
       "      <td>0.579</td>\n",
       "    </tr>\n",
       "  </tbody>\n",
       "</table>\n",
       "</div>"
      ],
      "text/plain": [
       "   danceability  energy  acousticness\n",
       "0         0.819   0.341         0.732\n",
       "1         0.328   0.166         0.961\n",
       "2         0.697   0.346         0.579"
      ]
     },
     "execution_count": 6,
     "metadata": {},
     "output_type": "execute_result"
    }
   ],
   "source": [
    "acou_ins.head(3)"
   ]
  },
  {
   "cell_type": "code",
   "execution_count": 7,
   "id": "840b220d",
   "metadata": {},
   "outputs": [],
   "source": [
    "scaler = StandardScaler()\n",
    "result = scaler.fit_transform(acou_ins)"
   ]
  },
  {
   "cell_type": "code",
   "execution_count": 8,
   "id": "cd061af0",
   "metadata": {},
   "outputs": [
    {
     "data": {
      "text/html": [
       "<div>\n",
       "<style scoped>\n",
       "    .dataframe tbody tr th:only-of-type {\n",
       "        vertical-align: middle;\n",
       "    }\n",
       "\n",
       "    .dataframe tbody tr th {\n",
       "        vertical-align: top;\n",
       "    }\n",
       "\n",
       "    .dataframe thead th {\n",
       "        text-align: right;\n",
       "    }\n",
       "</style>\n",
       "<table border=\"1\" class=\"dataframe\">\n",
       "  <thead>\n",
       "    <tr style=\"text-align: right;\">\n",
       "      <th></th>\n",
       "      <th>0</th>\n",
       "      <th>1</th>\n",
       "      <th>2</th>\n",
       "    </tr>\n",
       "  </thead>\n",
       "  <tbody>\n",
       "    <tr>\n",
       "      <th>count</th>\n",
       "      <td>1.330510e+05</td>\n",
       "      <td>1.330510e+05</td>\n",
       "      <td>1.330510e+05</td>\n",
       "    </tr>\n",
       "    <tr>\n",
       "      <th>mean</th>\n",
       "      <td>-5.300176e-16</td>\n",
       "      <td>3.329684e-16</td>\n",
       "      <td>-1.866629e-18</td>\n",
       "    </tr>\n",
       "    <tr>\n",
       "      <th>std</th>\n",
       "      <td>1.000004e+00</td>\n",
       "      <td>1.000004e+00</td>\n",
       "      <td>1.000004e+00</td>\n",
       "    </tr>\n",
       "    <tr>\n",
       "      <th>min</th>\n",
       "      <td>-3.132526e+00</td>\n",
       "      <td>-2.063332e+00</td>\n",
       "      <td>-1.185823e+00</td>\n",
       "    </tr>\n",
       "    <tr>\n",
       "      <th>25%</th>\n",
       "      <td>-6.712866e-01</td>\n",
       "      <td>-7.901386e-01</td>\n",
       "      <td>-1.006519e+00</td>\n",
       "    </tr>\n",
       "    <tr>\n",
       "      <th>50%</th>\n",
       "      <td>5.159477e-02</td>\n",
       "      <td>3.550788e-02</td>\n",
       "      <td>-1.877839e-01</td>\n",
       "    </tr>\n",
       "    <tr>\n",
       "      <th>75%</th>\n",
       "      <td>7.228418e-01</td>\n",
       "      <td>8.187146e-01</td>\n",
       "      <td>9.818384e-01</td>\n",
       "    </tr>\n",
       "    <tr>\n",
       "      <th>max</th>\n",
       "      <td>2.535782e+00</td>\n",
       "      <td>1.794829e+00</td>\n",
       "      <td>1.662450e+00</td>\n",
       "    </tr>\n",
       "  </tbody>\n",
       "</table>\n",
       "</div>"
      ],
      "text/plain": [
       "                  0             1             2\n",
       "count  1.330510e+05  1.330510e+05  1.330510e+05\n",
       "mean  -5.300176e-16  3.329684e-16 -1.866629e-18\n",
       "std    1.000004e+00  1.000004e+00  1.000004e+00\n",
       "min   -3.132526e+00 -2.063332e+00 -1.185823e+00\n",
       "25%   -6.712866e-01 -7.901386e-01 -1.006519e+00\n",
       "50%    5.159477e-02  3.550788e-02 -1.877839e-01\n",
       "75%    7.228418e-01  8.187146e-01  9.818384e-01\n",
       "max    2.535782e+00  1.794829e+00  1.662450e+00"
      ]
     },
     "execution_count": 8,
     "metadata": {},
     "output_type": "execute_result"
    }
   ],
   "source": [
    "data_scaled = pd.DataFrame(result)\n",
    "data_scaled.describe()"
   ]
  },
  {
   "cell_type": "code",
   "execution_count": 9,
   "id": "693bb68b",
   "metadata": {},
   "outputs": [],
   "source": [
    "pca = PCA(n_components=1)\n",
    "res = pca.fit_transform(data_scaled)"
   ]
  },
  {
   "cell_type": "code",
   "execution_count": 10,
   "id": "892d0be0",
   "metadata": {},
   "outputs": [
    {
     "data": {
      "text/html": [
       "<div>\n",
       "<style scoped>\n",
       "    .dataframe tbody tr th:only-of-type {\n",
       "        vertical-align: middle;\n",
       "    }\n",
       "\n",
       "    .dataframe tbody tr th {\n",
       "        vertical-align: top;\n",
       "    }\n",
       "\n",
       "    .dataframe thead th {\n",
       "        text-align: right;\n",
       "    }\n",
       "</style>\n",
       "<table border=\"1\" class=\"dataframe\">\n",
       "  <thead>\n",
       "    <tr style=\"text-align: right;\">\n",
       "      <th></th>\n",
       "      <th>senti</th>\n",
       "    </tr>\n",
       "  </thead>\n",
       "  <tbody>\n",
       "    <tr>\n",
       "      <th>0</th>\n",
       "      <td>0.548219</td>\n",
       "    </tr>\n",
       "    <tr>\n",
       "      <th>1</th>\n",
       "      <td>2.415766</td>\n",
       "    </tr>\n",
       "    <tr>\n",
       "      <th>2</th>\n",
       "      <td>0.489219</td>\n",
       "    </tr>\n",
       "    <tr>\n",
       "      <th>3</th>\n",
       "      <td>2.138898</td>\n",
       "    </tr>\n",
       "    <tr>\n",
       "      <th>4</th>\n",
       "      <td>1.939078</td>\n",
       "    </tr>\n",
       "    <tr>\n",
       "      <th>...</th>\n",
       "      <td>...</td>\n",
       "    </tr>\n",
       "    <tr>\n",
       "      <th>133046</th>\n",
       "      <td>-1.805109</td>\n",
       "    </tr>\n",
       "    <tr>\n",
       "      <th>133047</th>\n",
       "      <td>-1.295453</td>\n",
       "    </tr>\n",
       "    <tr>\n",
       "      <th>133048</th>\n",
       "      <td>-1.595412</td>\n",
       "    </tr>\n",
       "    <tr>\n",
       "      <th>133049</th>\n",
       "      <td>-1.246208</td>\n",
       "    </tr>\n",
       "    <tr>\n",
       "      <th>133050</th>\n",
       "      <td>-1.634482</td>\n",
       "    </tr>\n",
       "  </tbody>\n",
       "</table>\n",
       "<p>133051 rows × 1 columns</p>\n",
       "</div>"
      ],
      "text/plain": [
       "           senti\n",
       "0       0.548219\n",
       "1       2.415766\n",
       "2       0.489219\n",
       "3       2.138898\n",
       "4       1.939078\n",
       "...          ...\n",
       "133046 -1.805109\n",
       "133047 -1.295453\n",
       "133048 -1.595412\n",
       "133049 -1.246208\n",
       "133050 -1.634482\n",
       "\n",
       "[133051 rows x 1 columns]"
      ]
     },
     "execution_count": 10,
     "metadata": {},
     "output_type": "execute_result"
    }
   ],
   "source": [
    "res = pd.DataFrame(res, columns=['senti'])\n",
    "res"
   ]
  },
  {
   "cell_type": "code",
   "execution_count": 11,
   "id": "7208bb0a",
   "metadata": {},
   "outputs": [],
   "source": [
    "tempDF = data.copy()"
   ]
  },
  {
   "cell_type": "code",
   "execution_count": 12,
   "id": "6f7e8879",
   "metadata": {},
   "outputs": [],
   "source": [
    "tempDF = tempDF.loc[:,['percentage']]"
   ]
  },
  {
   "cell_type": "code",
   "execution_count": 13,
   "id": "c5a072d7",
   "metadata": {},
   "outputs": [
    {
     "data": {
      "text/html": [
       "<div>\n",
       "<style scoped>\n",
       "    .dataframe tbody tr th:only-of-type {\n",
       "        vertical-align: middle;\n",
       "    }\n",
       "\n",
       "    .dataframe tbody tr th {\n",
       "        vertical-align: top;\n",
       "    }\n",
       "\n",
       "    .dataframe thead th {\n",
       "        text-align: right;\n",
       "    }\n",
       "</style>\n",
       "<table border=\"1\" class=\"dataframe\">\n",
       "  <thead>\n",
       "    <tr style=\"text-align: right;\">\n",
       "      <th></th>\n",
       "      <th>percentage</th>\n",
       "    </tr>\n",
       "  </thead>\n",
       "  <tbody>\n",
       "    <tr>\n",
       "      <th>0</th>\n",
       "      <td>0.660748</td>\n",
       "    </tr>\n",
       "    <tr>\n",
       "      <th>1</th>\n",
       "      <td>0.506691</td>\n",
       "    </tr>\n",
       "    <tr>\n",
       "      <th>2</th>\n",
       "      <td>0.619534</td>\n",
       "    </tr>\n",
       "    <tr>\n",
       "      <th>3</th>\n",
       "      <td>0.426359</td>\n",
       "    </tr>\n",
       "    <tr>\n",
       "      <th>4</th>\n",
       "      <td>0.190415</td>\n",
       "    </tr>\n",
       "  </tbody>\n",
       "</table>\n",
       "</div>"
      ],
      "text/plain": [
       "   percentage\n",
       "0    0.660748\n",
       "1    0.506691\n",
       "2    0.619534\n",
       "3    0.426359\n",
       "4    0.190415"
      ]
     },
     "execution_count": 13,
     "metadata": {},
     "output_type": "execute_result"
    }
   ],
   "source": [
    "tempDF.head()"
   ]
  },
  {
   "cell_type": "code",
   "execution_count": 14,
   "id": "b2aef4cf",
   "metadata": {},
   "outputs": [],
   "source": [
    "final = pd.concat([tempDF, res], axis=1)"
   ]
  },
  {
   "cell_type": "code",
   "execution_count": 15,
   "id": "221ff79f",
   "metadata": {},
   "outputs": [
    {
     "data": {
      "text/html": [
       "<div>\n",
       "<style scoped>\n",
       "    .dataframe tbody tr th:only-of-type {\n",
       "        vertical-align: middle;\n",
       "    }\n",
       "\n",
       "    .dataframe tbody tr th {\n",
       "        vertical-align: top;\n",
       "    }\n",
       "\n",
       "    .dataframe thead th {\n",
       "        text-align: right;\n",
       "    }\n",
       "</style>\n",
       "<table border=\"1\" class=\"dataframe\">\n",
       "  <thead>\n",
       "    <tr style=\"text-align: right;\">\n",
       "      <th></th>\n",
       "      <th>percentage</th>\n",
       "      <th>senti</th>\n",
       "    </tr>\n",
       "  </thead>\n",
       "  <tbody>\n",
       "    <tr>\n",
       "      <th>0</th>\n",
       "      <td>0.660748</td>\n",
       "      <td>0.548219</td>\n",
       "    </tr>\n",
       "    <tr>\n",
       "      <th>1</th>\n",
       "      <td>0.506691</td>\n",
       "      <td>2.415766</td>\n",
       "    </tr>\n",
       "    <tr>\n",
       "      <th>2</th>\n",
       "      <td>0.619534</td>\n",
       "      <td>0.489219</td>\n",
       "    </tr>\n",
       "    <tr>\n",
       "      <th>3</th>\n",
       "      <td>0.426359</td>\n",
       "      <td>2.138898</td>\n",
       "    </tr>\n",
       "    <tr>\n",
       "      <th>4</th>\n",
       "      <td>0.190415</td>\n",
       "      <td>1.939078</td>\n",
       "    </tr>\n",
       "  </tbody>\n",
       "</table>\n",
       "</div>"
      ],
      "text/plain": [
       "   percentage     senti\n",
       "0    0.660748  0.548219\n",
       "1    0.506691  2.415766\n",
       "2    0.619534  0.489219\n",
       "3    0.426359  2.138898\n",
       "4    0.190415  1.939078"
      ]
     },
     "execution_count": 15,
     "metadata": {},
     "output_type": "execute_result"
    }
   ],
   "source": [
    "final.head()"
   ]
  },
  {
   "cell_type": "code",
   "execution_count": 16,
   "id": "66424d1c",
   "metadata": {},
   "outputs": [],
   "source": [
    "X = final[['percentage', 'senti']]"
   ]
  },
  {
   "cell_type": "code",
   "execution_count": 17,
   "id": "7b33e136",
   "metadata": {},
   "outputs": [],
   "source": [
    "kmeans = KMeans(n_clusters=7)\n",
    "model = kmeans.fit(X)"
   ]
  },
  {
   "cell_type": "code",
   "execution_count": 18,
   "id": "af2b3a67",
   "metadata": {},
   "outputs": [
    {
     "data": {
      "text/plain": [
       "array([2, 1, 2, ..., 0, 3, 0], dtype=int32)"
      ]
     },
     "execution_count": 18,
     "metadata": {},
     "output_type": "execute_result"
    }
   ],
   "source": [
    "kmeans.labels_"
   ]
  },
  {
   "cell_type": "code",
   "execution_count": 19,
   "id": "d6b79436",
   "metadata": {},
   "outputs": [
    {
     "data": {
      "text/plain": [
       "array([[ 0.63884592, -1.68355799],\n",
       "       [ 0.42270436,  2.54030055],\n",
       "       [ 0.57386521,  0.22143934],\n",
       "       [ 0.60950797, -1.1185727 ],\n",
       "       [ 0.50206721,  1.71382611],\n",
       "       [ 0.58875498, -0.4757499 ],\n",
       "       [ 0.54683291,  0.95934803]])"
      ]
     },
     "execution_count": 19,
     "metadata": {},
     "output_type": "execute_result"
    }
   ],
   "source": [
    "kmeans.cluster_centers_"
   ]
  },
  {
   "cell_type": "code",
   "execution_count": 20,
   "id": "845643b3",
   "metadata": {},
   "outputs": [
    {
     "data": {
      "text/plain": [
       "<AxesSubplot:xlabel='senti', ylabel='percentage'>"
      ]
     },
     "execution_count": 20,
     "metadata": {},
     "output_type": "execute_result"
    },
    {
     "data": {
      "image/png": "[encoded data removed]",
      "text/plain": [
       "<Figure size 432x288 with 1 Axes>"
      ]
     },
     "metadata": {
      "needs_background": "light"
     },
     "output_type": "display_data"
    }
   ],
   "source": [
    "sns.scatterplot(data=X, x='senti', y='percentage', hue=kmeans.labels_)"
   ]
  },
  {
   "cell_type": "code",
   "execution_count": 21,
   "id": "66fbad34",
   "metadata": {},
   "outputs": [],
   "source": [
    "#linear regression으로 senti랑 acoustic, instrumental 이 어떤 관계인지 알아보고 감정 mapping 시키기"
   ]
  },
  {
   "cell_type": "code",
   "execution_count": 22,
   "id": "59c3fc5a",
   "metadata": {},
   "outputs": [],
   "source": [
    "acou_ins_senti = data.copy()"
   ]
  },
  {
   "cell_type": "code",
   "execution_count": 23,
   "id": "c995b77c",
   "metadata": {},
   "outputs": [
    {
     "data": {
      "text/html": [
       "<div>\n",
       "<style scoped>\n",
       "    .dataframe tbody tr th:only-of-type {\n",
       "        vertical-align: middle;\n",
       "    }\n",
       "\n",
       "    .dataframe tbody tr th {\n",
       "        vertical-align: top;\n",
       "    }\n",
       "\n",
       "    .dataframe thead th {\n",
       "        text-align: right;\n",
       "    }\n",
       "</style>\n",
       "<table border=\"1\" class=\"dataframe\">\n",
       "  <thead>\n",
       "    <tr style=\"text-align: right;\">\n",
       "      <th></th>\n",
       "      <th>0</th>\n",
       "      <th>1</th>\n",
       "    </tr>\n",
       "  </thead>\n",
       "  <tbody>\n",
       "    <tr>\n",
       "      <th>0</th>\n",
       "      <td>0.907486</td>\n",
       "      <td>-0.451379</td>\n",
       "    </tr>\n",
       "    <tr>\n",
       "      <th>1</th>\n",
       "      <td>1.562360</td>\n",
       "      <td>2.867686</td>\n",
       "    </tr>\n",
       "    <tr>\n",
       "      <th>2</th>\n",
       "      <td>0.469950</td>\n",
       "      <td>0.159358</td>\n",
       "    </tr>\n",
       "    <tr>\n",
       "      <th>3</th>\n",
       "      <td>0.258331</td>\n",
       "      <td>-0.450641</td>\n",
       "    </tr>\n",
       "    <tr>\n",
       "      <th>4</th>\n",
       "      <td>0.181119</td>\n",
       "      <td>-0.430694</td>\n",
       "    </tr>\n",
       "  </tbody>\n",
       "</table>\n",
       "</div>"
      ],
      "text/plain": [
       "          0         1\n",
       "0  0.907486 -0.451379\n",
       "1  1.562360  2.867686\n",
       "2  0.469950  0.159358\n",
       "3  0.258331 -0.450641\n",
       "4  0.181119 -0.430694"
      ]
     },
     "execution_count": 23,
     "metadata": {},
     "output_type": "execute_result"
    }
   ],
   "source": [
    "data_scaled.head()"
   ]
  },
  {
   "cell_type": "code",
   "execution_count": 24,
   "id": "6ce39dba",
   "metadata": {},
   "outputs": [],
   "source": [
    "data_scaled.columns=['acoustic', 'instru']"
   ]
  },
  {
   "cell_type": "code",
   "execution_count": 25,
   "id": "766108a3",
   "metadata": {},
   "outputs": [
    {
     "data": {
      "text/html": [
       "<div>\n",
       "<style scoped>\n",
       "    .dataframe tbody tr th:only-of-type {\n",
       "        vertical-align: middle;\n",
       "    }\n",
       "\n",
       "    .dataframe tbody tr th {\n",
       "        vertical-align: top;\n",
       "    }\n",
       "\n",
       "    .dataframe thead th {\n",
       "        text-align: right;\n",
       "    }\n",
       "</style>\n",
       "<table border=\"1\" class=\"dataframe\">\n",
       "  <thead>\n",
       "    <tr style=\"text-align: right;\">\n",
       "      <th></th>\n",
       "      <th>acoustic</th>\n",
       "      <th>instru</th>\n",
       "    </tr>\n",
       "  </thead>\n",
       "  <tbody>\n",
       "    <tr>\n",
       "      <th>0</th>\n",
       "      <td>0.907486</td>\n",
       "      <td>-0.451379</td>\n",
       "    </tr>\n",
       "    <tr>\n",
       "      <th>1</th>\n",
       "      <td>1.562360</td>\n",
       "      <td>2.867686</td>\n",
       "    </tr>\n",
       "    <tr>\n",
       "      <th>2</th>\n",
       "      <td>0.469950</td>\n",
       "      <td>0.159358</td>\n",
       "    </tr>\n",
       "    <tr>\n",
       "      <th>3</th>\n",
       "      <td>0.258331</td>\n",
       "      <td>-0.450641</td>\n",
       "    </tr>\n",
       "    <tr>\n",
       "      <th>4</th>\n",
       "      <td>0.181119</td>\n",
       "      <td>-0.430694</td>\n",
       "    </tr>\n",
       "  </tbody>\n",
       "</table>\n",
       "</div>"
      ],
      "text/plain": [
       "   acoustic    instru\n",
       "0  0.907486 -0.451379\n",
       "1  1.562360  2.867686\n",
       "2  0.469950  0.159358\n",
       "3  0.258331 -0.450641\n",
       "4  0.181119 -0.430694"
      ]
     },
     "execution_count": 25,
     "metadata": {},
     "output_type": "execute_result"
    }
   ],
   "source": [
    "data_scaled.head()"
   ]
  },
  {
   "cell_type": "code",
   "execution_count": 26,
   "id": "b8ab06fe",
   "metadata": {},
   "outputs": [],
   "source": [
    "linear = pd.concat([data_scaled, res], axis=1) #acou, inst, 차원축소결과"
   ]
  },
  {
   "cell_type": "code",
   "execution_count": 27,
   "id": "65d50d57",
   "metadata": {},
   "outputs": [
    {
     "data": {
      "text/html": [
       "<div>\n",
       "<style scoped>\n",
       "    .dataframe tbody tr th:only-of-type {\n",
       "        vertical-align: middle;\n",
       "    }\n",
       "\n",
       "    .dataframe tbody tr th {\n",
       "        vertical-align: top;\n",
       "    }\n",
       "\n",
       "    .dataframe thead th {\n",
       "        text-align: right;\n",
       "    }\n",
       "</style>\n",
       "<table border=\"1\" class=\"dataframe\">\n",
       "  <thead>\n",
       "    <tr style=\"text-align: right;\">\n",
       "      <th></th>\n",
       "      <th>acoustic</th>\n",
       "      <th>instru</th>\n",
       "      <th>senti</th>\n",
       "    </tr>\n",
       "  </thead>\n",
       "  <tbody>\n",
       "    <tr>\n",
       "      <th>0</th>\n",
       "      <td>0.907486</td>\n",
       "      <td>-0.451379</td>\n",
       "      <td>0.322516</td>\n",
       "    </tr>\n",
       "    <tr>\n",
       "      <th>1</th>\n",
       "      <td>1.562360</td>\n",
       "      <td>2.867686</td>\n",
       "      <td>3.132515</td>\n",
       "    </tr>\n",
       "    <tr>\n",
       "      <th>2</th>\n",
       "      <td>0.469950</td>\n",
       "      <td>0.159358</td>\n",
       "      <td>0.444988</td>\n",
       "    </tr>\n",
       "  </tbody>\n",
       "</table>\n",
       "</div>"
      ],
      "text/plain": [
       "   acoustic    instru     senti\n",
       "0  0.907486 -0.451379  0.322516\n",
       "1  1.562360  2.867686  3.132515\n",
       "2  0.469950  0.159358  0.444988"
      ]
     },
     "execution_count": 27,
     "metadata": {},
     "output_type": "execute_result"
    }
   ],
   "source": [
    "linear.head(3)"
   ]
  },
  {
   "cell_type": "code",
   "execution_count": 28,
   "id": "1179cf19",
   "metadata": {},
   "outputs": [
    {
     "data": {
      "image/png": "[encoded data removed]",
      "text/plain": [
       "<Figure size 432x288 with 1 Axes>"
      ]
     },
     "metadata": {
      "needs_background": "light"
     },
     "output_type": "display_data"
    }
   ],
   "source": [
    "from sklearn.linear_model import LinearRegression\n",
    "\n",
    "x = linear['acoustic']\n",
    "y = linear['senti']\n",
    "\n",
    "line = LinearRegression()\n",
    "line.fit(x.values.reshape(-1,1),y)\n",
    "plt.plot(x,y,'o')\n",
    "plt.plot(x, line.predict(x.values.reshape(-1,1)))\n",
    "plt.xlabel('acou')\n",
    "plt.ylabel('senti')\n",
    "plt.show()"
   ]
  },
  {
   "cell_type": "code",
   "execution_count": 30,
   "id": "36dcaf52",
   "metadata": {},
   "outputs": [
    {
     "data": {
      "text/plain": [
       "(array([0.88494464]), -1.8521918516695707e-16)"
      ]
     },
     "execution_count": 30,
     "metadata": {},
     "output_type": "execute_result"
    }
   ],
   "source": [
    "line.coef_, line.intercept_"
   ]
  },
  {
   "cell_type": "code",
   "execution_count": 31,
   "id": "7bf2d960",
   "metadata": {},
   "outputs": [
    {
     "data": {
      "image/png": "[encoded data removed]",
      "text/plain": [
       "<Figure size 432x288 with 1 Axes>"
      ]
     },
     "metadata": {
      "needs_background": "light"
     },
     "output_type": "display_data"
    }
   ],
   "source": [
    "from sklearn.linear_model import LinearRegression\n",
    "\n",
    "x = linear['instru']\n",
    "y = linear['senti']\n",
    "\n",
    "line = LinearRegression()\n",
    "line.fit(x.values.reshape(-1,1),y)\n",
    "plt.plot(x,y,'o')\n",
    "plt.plot(x, line.predict(x.values.reshape(-1,1)))\n",
    "plt.xlabel('instru')\n",
    "plt.ylabel('senti')\n",
    "plt.show()"
   ]
  },
  {
   "cell_type": "code",
   "execution_count": 32,
   "id": "cb1d45e4",
   "metadata": {},
   "outputs": [
    {
     "data": {
      "text/plain": [
       "(array([0.88494464]), -5.364902707662437e-17)"
      ]
     },
     "execution_count": 32,
     "metadata": {},
     "output_type": "execute_result"
    }
   ],
   "source": [
    "line.coef_, line.intercept_"
   ]
  },
  {
   "cell_type": "code",
   "execution_count": 30,
   "id": "365db32b",
   "metadata": {},
   "outputs": [
    {
     "data": {
      "image/png": "[encoded data removed]",
      "text/plain": [
       "<Figure size 432x288 with 1 Axes>"
      ]
     },
     "metadata": {
      "needs_background": "light"
     },
     "output_type": "display_data"
    }
   ],
   "source": [
    "from sklearn.linear_model import LinearRegression\n",
    "\n",
    "x = linear['acoustic']\n",
    "y = linear['instru']\n",
    "\n",
    "line = LinearRegression()\n",
    "line.fit(x.values.reshape(-1,1),y)\n",
    "plt.plot(x,y,'o')\n",
    "plt.plot(x, line.predict(x.values.reshape(-1,1)))\n",
    "plt.xlabel('acou')\n",
    "plt.ylabel('instru')\n",
    "plt.show()"
   ]
  },
  {
   "cell_type": "code",
   "execution_count": null,
   "id": "00f55323",
   "metadata": {},
   "outputs": [],
   "source": []
  }
 ],
 "metadata": {
  "kernelspec": {
   "display_name": "Python 3",
   "language": "python",
   "name": "python3"
  },
  "language_info": {
   "codemirror_mode": {
    "name": "ipython",
    "version": 3
   },
   "file_extension": ".py",
   "mimetype": "text/x-python",
   "name": "python",
   "nbconvert_exporter": "python",
   "pygments_lexer": "ipython3",
   "version": "3.8.8"
  }
 },
 "nbformat": 4,
 "nbformat_minor": 5
}
