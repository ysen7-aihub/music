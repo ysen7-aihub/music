{
 "cells": [
  {
   "cell_type": "code",
   "execution_count": 8,
   "id": "1ecd127c",
   "metadata": {},
   "outputs": [],
   "source": [
    "import pandas as pd\n",
    "import numpy as np\n",
    "import matplotlib.pyplot as plt\n",
    "import seaborn as sns"
   ]
  },
  {
   "cell_type": "code",
   "execution_count": 9,
   "id": "da0f65a7",
   "metadata": {},
   "outputs": [],
   "source": [
    "data = pd.read_csv('finalData.csv')"
   ]
  },
  {
   "cell_type": "code",
   "execution_count": 10,
   "id": "03a3d8e4",
   "metadata": {},
   "outputs": [
    {
     "data": {
      "text/html": [
       "<div>\n",
       "<style scoped>\n",
       "    .dataframe tbody tr th:only-of-type {\n",
       "        vertical-align: middle;\n",
       "    }\n",
       "\n",
       "    .dataframe tbody tr th {\n",
       "        vertical-align: top;\n",
       "    }\n",
       "\n",
       "    .dataframe thead th {\n",
       "        text-align: right;\n",
       "    }\n",
       "</style>\n",
       "<table border=\"1\" class=\"dataframe\">\n",
       "  <thead>\n",
       "    <tr style=\"text-align: right;\">\n",
       "      <th></th>\n",
       "      <th>name</th>\n",
       "      <th>artists</th>\n",
       "      <th>score1</th>\n",
       "      <th>score2</th>\n",
       "      <th>senti</th>\n",
       "    </tr>\n",
       "  </thead>\n",
       "  <tbody>\n",
       "    <tr>\n",
       "      <th>0</th>\n",
       "      <td>Clancy Lowered the Boom</td>\n",
       "      <td>['Dennis Day']</td>\n",
       "      <td>0.660748</td>\n",
       "      <td>19</td>\n",
       "      <td>3</td>\n",
       "    </tr>\n",
       "    <tr>\n",
       "      <th>1</th>\n",
       "      <td>Gati Bali</td>\n",
       "      <td>['KHP Kridhamardawa Karaton Ngayogyakarta Hadi...</td>\n",
       "      <td>0.506691</td>\n",
       "      <td>16</td>\n",
       "      <td>6</td>\n",
       "    </tr>\n",
       "    <tr>\n",
       "      <th>2</th>\n",
       "      <td>Gati Mardika</td>\n",
       "      <td>['KHP Kridhamardawa Karaton Ngayogyakarta Hadi...</td>\n",
       "      <td>0.619534</td>\n",
       "      <td>20</td>\n",
       "      <td>1</td>\n",
       "    </tr>\n",
       "    <tr>\n",
       "      <th>3</th>\n",
       "      <td>Raja Manggala</td>\n",
       "      <td>['KHP Kridhamardawa Karaton Ngayogyakarta Hadi...</td>\n",
       "      <td>0.426359</td>\n",
       "      <td>6</td>\n",
       "      <td>1</td>\n",
       "    </tr>\n",
       "    <tr>\n",
       "      <th>4</th>\n",
       "      <td>Prabu Mataram</td>\n",
       "      <td>['KHP Kridhamardawa Karaton Ngayogyakarta Hadi...</td>\n",
       "      <td>0.190415</td>\n",
       "      <td>3</td>\n",
       "      <td>1</td>\n",
       "    </tr>\n",
       "  </tbody>\n",
       "</table>\n",
       "</div>"
      ],
      "text/plain": [
       "                      name                                            artists  \\\n",
       "0  Clancy Lowered the Boom                                     ['Dennis Day']   \n",
       "1                Gati Bali  ['KHP Kridhamardawa Karaton Ngayogyakarta Hadi...   \n",
       "2             Gati Mardika  ['KHP Kridhamardawa Karaton Ngayogyakarta Hadi...   \n",
       "3            Raja Manggala  ['KHP Kridhamardawa Karaton Ngayogyakarta Hadi...   \n",
       "4            Prabu Mataram  ['KHP Kridhamardawa Karaton Ngayogyakarta Hadi...   \n",
       "\n",
       "     score1  score2  senti  \n",
       "0  0.660748      19      3  \n",
       "1  0.506691      16      6  \n",
       "2  0.619534      20      1  \n",
       "3  0.426359       6      1  \n",
       "4  0.190415       3      1  "
      ]
     },
     "execution_count": 10,
     "metadata": {},
     "output_type": "execute_result"
    }
   ],
   "source": [
    "data.head()"
   ]
  },
  {
   "cell_type": "code",
   "execution_count": 11,
   "id": "16ac4ca6",
   "metadata": {},
   "outputs": [],
   "source": [
    "data['score2'] = data['score2']/24\n",
    "data['senti'] = data['senti']/6"
   ]
  },
  {
   "cell_type": "code",
   "execution_count": 12,
   "id": "7cbffdf7",
   "metadata": {},
   "outputs": [
    {
     "data": {
      "text/html": [
       "<div>\n",
       "<style scoped>\n",
       "    .dataframe tbody tr th:only-of-type {\n",
       "        vertical-align: middle;\n",
       "    }\n",
       "\n",
       "    .dataframe tbody tr th {\n",
       "        vertical-align: top;\n",
       "    }\n",
       "\n",
       "    .dataframe thead th {\n",
       "        text-align: right;\n",
       "    }\n",
       "</style>\n",
       "<table border=\"1\" class=\"dataframe\">\n",
       "  <thead>\n",
       "    <tr style=\"text-align: right;\">\n",
       "      <th></th>\n",
       "      <th>name</th>\n",
       "      <th>artists</th>\n",
       "      <th>score1</th>\n",
       "      <th>score2</th>\n",
       "      <th>senti</th>\n",
       "    </tr>\n",
       "  </thead>\n",
       "  <tbody>\n",
       "    <tr>\n",
       "      <th>0</th>\n",
       "      <td>Clancy Lowered the Boom</td>\n",
       "      <td>['Dennis Day']</td>\n",
       "      <td>0.660748</td>\n",
       "      <td>0.791667</td>\n",
       "      <td>0.500000</td>\n",
       "    </tr>\n",
       "    <tr>\n",
       "      <th>1</th>\n",
       "      <td>Gati Bali</td>\n",
       "      <td>['KHP Kridhamardawa Karaton Ngayogyakarta Hadi...</td>\n",
       "      <td>0.506691</td>\n",
       "      <td>0.666667</td>\n",
       "      <td>1.000000</td>\n",
       "    </tr>\n",
       "    <tr>\n",
       "      <th>2</th>\n",
       "      <td>Gati Mardika</td>\n",
       "      <td>['KHP Kridhamardawa Karaton Ngayogyakarta Hadi...</td>\n",
       "      <td>0.619534</td>\n",
       "      <td>0.833333</td>\n",
       "      <td>0.166667</td>\n",
       "    </tr>\n",
       "    <tr>\n",
       "      <th>3</th>\n",
       "      <td>Raja Manggala</td>\n",
       "      <td>['KHP Kridhamardawa Karaton Ngayogyakarta Hadi...</td>\n",
       "      <td>0.426359</td>\n",
       "      <td>0.250000</td>\n",
       "      <td>0.166667</td>\n",
       "    </tr>\n",
       "    <tr>\n",
       "      <th>4</th>\n",
       "      <td>Prabu Mataram</td>\n",
       "      <td>['KHP Kridhamardawa Karaton Ngayogyakarta Hadi...</td>\n",
       "      <td>0.190415</td>\n",
       "      <td>0.125000</td>\n",
       "      <td>0.166667</td>\n",
       "    </tr>\n",
       "  </tbody>\n",
       "</table>\n",
       "</div>"
      ],
      "text/plain": [
       "                      name                                            artists  \\\n",
       "0  Clancy Lowered the Boom                                     ['Dennis Day']   \n",
       "1                Gati Bali  ['KHP Kridhamardawa Karaton Ngayogyakarta Hadi...   \n",
       "2             Gati Mardika  ['KHP Kridhamardawa Karaton Ngayogyakarta Hadi...   \n",
       "3            Raja Manggala  ['KHP Kridhamardawa Karaton Ngayogyakarta Hadi...   \n",
       "4            Prabu Mataram  ['KHP Kridhamardawa Karaton Ngayogyakarta Hadi...   \n",
       "\n",
       "     score1    score2     senti  \n",
       "0  0.660748  0.791667  0.500000  \n",
       "1  0.506691  0.666667  1.000000  \n",
       "2  0.619534  0.833333  0.166667  \n",
       "3  0.426359  0.250000  0.166667  \n",
       "4  0.190415  0.125000  0.166667  "
      ]
     },
     "execution_count": 12,
     "metadata": {},
     "output_type": "execute_result"
    }
   ],
   "source": [
    "data.head()"
   ]
  },
  {
   "cell_type": "code",
   "execution_count": 14,
   "id": "96af26a2",
   "metadata": {},
   "outputs": [],
   "source": [
    "data.to_csv('finalData01.csv', encoding='utf-8-sig', index=False)"
   ]
  },
  {
   "cell_type": "code",
   "execution_count": null,
   "id": "0d40254b",
   "metadata": {},
   "outputs": [],
   "source": []
  }
 ],
 "metadata": {
  "kernelspec": {
   "display_name": "Python 3",
   "language": "python",
   "name": "python3"
  },
  "language_info": {
   "codemirror_mode": {
    "name": "ipython",
    "version": 3
   },
   "file_extension": ".py",
   "mimetype": "text/x-python",
   "name": "python",
   "nbconvert_exporter": "python",
   "pygments_lexer": "ipython3",
   "version": "3.8.8"
  }
 },
 "nbformat": 4,
 "nbformat_minor": 5
}
