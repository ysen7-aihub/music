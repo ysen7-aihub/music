{
 "cells": [
  {
   "cell_type": "code",
   "execution_count": 1,
   "id": "f28829ff",
   "metadata": {},
   "outputs": [],
   "source": [
    "#nlp 서버로 부터 받은 return 값\n",
    "score1 = 0.666\n",
    "score2 = 0.333\n",
    "score3 = 0\n",
    "sen_1 = '행복'\n",
    "sen_2 = '슬픔'\n",
    "sen_3 = '중립'\n",
    "\n",
    "#cnn 서버로 부터 받은 return 값\n",
    "score = 0.8"
   ]
  },
  {
   "cell_type": "code",
   "execution_count": 8,
   "id": "122030ee",
   "metadata": {},
   "outputs": [],
   "source": [
    "labels = {'혐오':0, '분노':1, '공포':2, '슬픔':3, '놀람':4, '중립':5, '행복':6}\n",
    "weights = {'혐오':1, '분노':1, '공포':3, '슬픔':4, '놀람':5, '중립':7, '행복':10}\n",
    "def make_input(score1, score2, score3, sen_1, sen_2, sen_3, score):\n",
    "\n",
    "    x = labels[sen_1]\n",
    "    \n",
    "    tmp = score1*weights[sen_1] + score2*weights[sen_2] + score3*weights[sen_3]\n",
    "    y = 0.1*tmp\n",
    "    \n",
    "    z = score\n",
    "    \n",
    "    return [x, y, z]"
   ]
  },
  {
   "cell_type": "code",
   "execution_count": 9,
   "id": "92a6b14b",
   "metadata": {},
   "outputs": [
    {
     "data": {
      "text/plain": [
       "[6, 0.7992, 0.8]"
      ]
     },
     "execution_count": 9,
     "metadata": {},
     "output_type": "execute_result"
    }
   ],
   "source": [
    "make_input(score1, score2, score3, sen_1, sen_2, sen_3, score)"
   ]
  }
 ],
 "metadata": {
  "kernelspec": {
   "display_name": "Python 3",
   "language": "python",
   "name": "python3"
  },
  "language_info": {
   "codemirror_mode": {
    "name": "ipython",
    "version": 3
   },
   "file_extension": ".py",
   "mimetype": "text/x-python",
   "name": "python",
   "nbconvert_exporter": "python",
   "pygments_lexer": "ipython3",
   "version": "3.8.8"
  }
 },
 "nbformat": 4,
 "nbformat_minor": 5
}
