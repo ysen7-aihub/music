{
  "nbformat": 4,
  "nbformat_minor": 0,
  "metadata": {
    "colab": {
      "name": "annoyUses.ipynb",
      "provenance": []
    },
    "kernelspec": {
      "name": "python3",
      "display_name": "Python 3"
    },
    "language_info": {
      "name": "python"
    }
  },
  "cells": [
    {
      "cell_type": "code",
      "metadata": {
        "colab": {
          "base_uri": "https://localhost:8080/"
        },
        "id": "kWS3qNiMRXrB",
        "outputId": "fb715c26-9733-4028-ea62-7f2b4b0b9103"
      },
      "source": [
        "!pip install annoy"
      ],
      "execution_count": 1,
      "outputs": [
        {
          "output_type": "stream",
          "name": "stdout",
          "text": [
            "Collecting annoy\n",
            "  Downloading annoy-1.17.0.tar.gz (646 kB)\n",
            "\u001b[?25l\r\u001b[K     |▌                               | 10 kB 16.7 MB/s eta 0:00:01\r\u001b[K     |█                               | 20 kB 20.6 MB/s eta 0:00:01\r\u001b[K     |█▌                              | 30 kB 23.7 MB/s eta 0:00:01\r\u001b[K     |██                              | 40 kB 26.7 MB/s eta 0:00:01\r\u001b[K     |██▌                             | 51 kB 30.1 MB/s eta 0:00:01\r\u001b[K     |███                             | 61 kB 32.5 MB/s eta 0:00:01\r\u001b[K     |███▌                            | 71 kB 34.3 MB/s eta 0:00:01\r\u001b[K     |████                            | 81 kB 35.6 MB/s eta 0:00:01\r\u001b[K     |████▋                           | 92 kB 37.1 MB/s eta 0:00:01\r\u001b[K     |█████                           | 102 kB 32.3 MB/s eta 0:00:01\r\u001b[K     |█████▋                          | 112 kB 32.3 MB/s eta 0:00:01\r\u001b[K     |██████                          | 122 kB 32.3 MB/s eta 0:00:01\r\u001b[K     |██████▋                         | 133 kB 32.3 MB/s eta 0:00:01\r\u001b[K     |███████                         | 143 kB 32.3 MB/s eta 0:00:01\r\u001b[K     |███████▋                        | 153 kB 32.3 MB/s eta 0:00:01\r\u001b[K     |████████▏                       | 163 kB 32.3 MB/s eta 0:00:01\r\u001b[K     |████████▋                       | 174 kB 32.3 MB/s eta 0:00:01\r\u001b[K     |█████████▏                      | 184 kB 32.3 MB/s eta 0:00:01\r\u001b[K     |█████████▋                      | 194 kB 32.3 MB/s eta 0:00:01\r\u001b[K     |██████████▏                     | 204 kB 32.3 MB/s eta 0:00:01\r\u001b[K     |██████████▋                     | 215 kB 32.3 MB/s eta 0:00:01\r\u001b[K     |███████████▏                    | 225 kB 32.3 MB/s eta 0:00:01\r\u001b[K     |███████████▋                    | 235 kB 32.3 MB/s eta 0:00:01\r\u001b[K     |████████████▏                   | 245 kB 32.3 MB/s eta 0:00:01\r\u001b[K     |████████████▊                   | 256 kB 32.3 MB/s eta 0:00:01\r\u001b[K     |█████████████▏                  | 266 kB 32.3 MB/s eta 0:00:01\r\u001b[K     |█████████████▊                  | 276 kB 32.3 MB/s eta 0:00:01\r\u001b[K     |██████████████▏                 | 286 kB 32.3 MB/s eta 0:00:01\r\u001b[K     |██████████████▊                 | 296 kB 32.3 MB/s eta 0:00:01\r\u001b[K     |███████████████▏                | 307 kB 32.3 MB/s eta 0:00:01\r\u001b[K     |███████████████▊                | 317 kB 32.3 MB/s eta 0:00:01\r\u001b[K     |████████████████▎               | 327 kB 32.3 MB/s eta 0:00:01\r\u001b[K     |████████████████▊               | 337 kB 32.3 MB/s eta 0:00:01\r\u001b[K     |█████████████████▎              | 348 kB 32.3 MB/s eta 0:00:01\r\u001b[K     |█████████████████▊              | 358 kB 32.3 MB/s eta 0:00:01\r\u001b[K     |██████████████████▎             | 368 kB 32.3 MB/s eta 0:00:01\r\u001b[K     |██████████████████▊             | 378 kB 32.3 MB/s eta 0:00:01\r\u001b[K     |███████████████████▎            | 389 kB 32.3 MB/s eta 0:00:01\r\u001b[K     |███████████████████▊            | 399 kB 32.3 MB/s eta 0:00:01\r\u001b[K     |████████████████████▎           | 409 kB 32.3 MB/s eta 0:00:01\r\u001b[K     |████████████████████▉           | 419 kB 32.3 MB/s eta 0:00:01\r\u001b[K     |█████████████████████▎          | 430 kB 32.3 MB/s eta 0:00:01\r\u001b[K     |█████████████████████▉          | 440 kB 32.3 MB/s eta 0:00:01\r\u001b[K     |██████████████████████▎         | 450 kB 32.3 MB/s eta 0:00:01\r\u001b[K     |██████████████████████▉         | 460 kB 32.3 MB/s eta 0:00:01\r\u001b[K     |███████████████████████▎        | 471 kB 32.3 MB/s eta 0:00:01\r\u001b[K     |███████████████████████▉        | 481 kB 32.3 MB/s eta 0:00:01\r\u001b[K     |████████████████████████▍       | 491 kB 32.3 MB/s eta 0:00:01\r\u001b[K     |████████████████████████▉       | 501 kB 32.3 MB/s eta 0:00:01\r\u001b[K     |█████████████████████████▍      | 512 kB 32.3 MB/s eta 0:00:01\r\u001b[K     |█████████████████████████▉      | 522 kB 32.3 MB/s eta 0:00:01\r\u001b[K     |██████████████████████████▍     | 532 kB 32.3 MB/s eta 0:00:01\r\u001b[K     |██████████████████████████▉     | 542 kB 32.3 MB/s eta 0:00:01\r\u001b[K     |███████████████████████████▍    | 552 kB 32.3 MB/s eta 0:00:01\r\u001b[K     |███████████████████████████▉    | 563 kB 32.3 MB/s eta 0:00:01\r\u001b[K     |████████████████████████████▍   | 573 kB 32.3 MB/s eta 0:00:01\r\u001b[K     |█████████████████████████████   | 583 kB 32.3 MB/s eta 0:00:01\r\u001b[K     |█████████████████████████████▍  | 593 kB 32.3 MB/s eta 0:00:01\r\u001b[K     |██████████████████████████████  | 604 kB 32.3 MB/s eta 0:00:01\r\u001b[K     |██████████████████████████████▍ | 614 kB 32.3 MB/s eta 0:00:01\r\u001b[K     |███████████████████████████████ | 624 kB 32.3 MB/s eta 0:00:01\r\u001b[K     |███████████████████████████████▍| 634 kB 32.3 MB/s eta 0:00:01\r\u001b[K     |████████████████████████████████| 645 kB 32.3 MB/s eta 0:00:01\r\u001b[K     |████████████████████████████████| 646 kB 32.3 MB/s \n",
            "\u001b[?25hBuilding wheels for collected packages: annoy\n",
            "  Building wheel for annoy (setup.py) ... \u001b[?25l\u001b[?25hdone\n",
            "  Created wheel for annoy: filename=annoy-1.17.0-cp37-cp37m-linux_x86_64.whl size=391672 sha256=f362448357db79883688a7ea3a7443f1f9e3312ad3d83b0b2fc5d353a1102f3e\n",
            "  Stored in directory: /root/.cache/pip/wheels/4f/e8/1e/7cc9ebbfa87a3b9f8ba79408d4d31831d67eea918b679a4c07\n",
            "Successfully built annoy\n",
            "Installing collected packages: annoy\n",
            "Successfully installed annoy-1.17.0\n"
          ]
        }
      ]
    },
    {
      "cell_type": "code",
      "metadata": {
        "id": "7LZ4q8QARjoe"
      },
      "source": [
        "from annoy import AnnoyIndex"
      ],
      "execution_count": 2,
      "outputs": []
    },
    {
      "cell_type": "code",
      "metadata": {
        "colab": {
          "base_uri": "https://localhost:8080/"
        },
        "id": "_o3yF5CBRt6G",
        "outputId": "4b014c33-e561-47f3-a1f6-ade1e4f1517a"
      },
      "source": [
        "length_of_vector = 3\n",
        "new_annoy_index = AnnoyIndex(length_of_vector, 'dot')\n",
        "new_annoy_index.load('musics.annoy')"
      ],
      "execution_count": 4,
      "outputs": [
        {
          "output_type": "execute_result",
          "data": {
            "text/plain": [
              "True"
            ]
          },
          "metadata": {},
          "execution_count": 4
        }
      ]
    },
    {
      "cell_type": "code",
      "metadata": {
        "id": "Td1KT957R2wl"
      },
      "source": [
        "n = 3 #3개의 노래\n",
        "input = [0,0.1,0.2]"
      ],
      "execution_count": 11,
      "outputs": []
    },
    {
      "cell_type": "code",
      "metadata": {
        "colab": {
          "base_uri": "https://localhost:8080/"
        },
        "id": "VdR5Cx_oSuou",
        "outputId": "c8630032-ea02-4dce-a0cb-dccb2b0fcf36"
      },
      "source": [
        "new_annoy_index.get_nns_by_vector(input, n)"
      ],
      "execution_count": 12,
      "outputs": [
        {
          "output_type": "execute_result",
          "data": {
            "text/plain": [
              "[61367, 11846, 22101]"
            ]
          },
          "metadata": {},
          "execution_count": 12
        }
      ]
    },
    {
      "cell_type": "code",
      "metadata": {
        "id": "tDB6u6LAS2l_"
      },
      "source": [
        ""
      ],
      "execution_count": null,
      "outputs": []
    }
  ]
}